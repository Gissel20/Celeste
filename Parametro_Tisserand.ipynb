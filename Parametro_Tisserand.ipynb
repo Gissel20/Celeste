{
 "cells": [
  {
   "cell_type": "code",
   "execution_count": 8,
   "metadata": {
    "collapsed": true
   },
   "outputs": [],
   "source": [
    "from numpy import*\n",
    "DEG=pi/180\n",
    "Ul=5.204267"
   ]
  },
  {
   "cell_type": "code",
   "execution_count": 9,
   "metadata": {
    "collapsed": false
   },
   "outputs": [
    {
     "name": "stdout",
     "output_type": "stream",
     "text": [
      "2.96952865848\n"
     ]
    }
   ],
   "source": [
    "#Periodo corto P<20yr, q<2AU\n",
    "#cometa 9P/Tempel1\n",
    "#Periodo=5.58yr\n",
    "#distancia al perielio q=1.542369465423623AU\n",
    "e=0.5098191971027368\n",
    "i=10.4733239248498*DEG\n",
    "a=3.146531761968834/Ul\n",
    "T = 1/a+2*sqrt(a*(1-e**2))*cos(i)\n",
    "print T"
   ]
  },
  {
   "cell_type": "code",
   "execution_count": 11,
   "metadata": {
    "collapsed": false
   },
   "outputs": [
    {
     "name": "stdout",
     "output_type": "stream",
     "text": [
      "2.95084014944\n"
     ]
    }
   ],
   "source": [
    "#P<20yr, 2<q<5\n",
    "#cometa 36P/Whipple\n",
    "#q=3.072395875089189 AU\n",
    "#P=8.49\n",
    "e=0.2617095134990785\n",
    "i=9.92733274756349*DEG\n",
    "a=4.161500021015582/Ul\n",
    "T = 1/a+2*sqrt(a*(1-e**2))*cos(i)\n",
    "print T"
   ]
  },
  {
   "cell_type": "code",
   "execution_count": 12,
   "metadata": {
    "collapsed": false
   },
   "outputs": [
    {
     "name": "stdout",
     "output_type": "stream",
     "text": [
      "-0.60469929429\n"
     ]
    }
   ],
   "source": [
    "#20<P<200\n",
    "#Cometa Halley \n",
    "#P=75.32\n",
    "e=0.967142908462304\n",
    "a=17.8341442925537/Ul\n",
    "i=162.262690579161*DEG\n",
    "T = 1/a+2*sqrt(a*(1-e**2))*cos(i)\n",
    "print T"
   ]
  },
  {
   "cell_type": "code",
   "execution_count": null,
   "metadata": {
    "collapsed": true
   },
   "outputs": [],
   "source": []
  }
 ],
 "metadata": {
  "kernelspec": {
   "display_name": "Python 2",
   "language": "python",
   "name": "python2"
  },
  "language_info": {
   "codemirror_mode": {
    "name": "ipython",
    "version": 2
   },
   "file_extension": ".py",
   "mimetype": "text/x-python",
   "name": "python",
   "nbconvert_exporter": "python",
   "pygments_lexer": "ipython2",
   "version": "2.7.10"
  }
 },
 "nbformat": 4,
 "nbformat_minor": 0
}
